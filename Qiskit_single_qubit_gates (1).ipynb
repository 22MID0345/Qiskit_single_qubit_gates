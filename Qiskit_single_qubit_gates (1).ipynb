{
  "cells": [
    {
      "cell_type": "code",
      "source": [
        "!pip install qiskit qiskit-aer"
      ],
      "metadata": {
        "colab": {
          "base_uri": "https://localhost:8080/"
        },
        "id": "Y6ILoOlyYy4E",
        "outputId": "91f2309a-5f0f-4c3d-bb95-add54c0b343f"
      },
      "execution_count": 1,
      "outputs": [
        {
          "output_type": "stream",
          "name": "stdout",
          "text": [
            "Collecting qiskit\n",
            "  Downloading qiskit-2.2.1-cp39-abi3-manylinux2014_x86_64.manylinux_2_17_x86_64.whl.metadata (12 kB)\n",
            "Collecting qiskit-aer\n",
            "  Downloading qiskit_aer-0.17.2-cp312-cp312-manylinux_2_17_x86_64.manylinux2014_x86_64.whl.metadata (8.3 kB)\n",
            "Collecting rustworkx>=0.15.0 (from qiskit)\n",
            "  Downloading rustworkx-0.17.1-cp39-abi3-manylinux_2_17_x86_64.manylinux2014_x86_64.whl.metadata (10 kB)\n",
            "Requirement already satisfied: numpy<3,>=1.17 in /usr/local/lib/python3.12/dist-packages (from qiskit) (2.0.2)\n",
            "Requirement already satisfied: scipy>=1.5 in /usr/local/lib/python3.12/dist-packages (from qiskit) (1.16.2)\n",
            "Requirement already satisfied: dill>=0.3 in /usr/local/lib/python3.12/dist-packages (from qiskit) (0.3.8)\n",
            "Collecting stevedore>=3.0.0 (from qiskit)\n",
            "  Downloading stevedore-5.5.0-py3-none-any.whl.metadata (2.2 kB)\n",
            "Requirement already satisfied: typing-extensions in /usr/local/lib/python3.12/dist-packages (from qiskit) (4.15.0)\n",
            "Requirement already satisfied: psutil>=5 in /usr/local/lib/python3.12/dist-packages (from qiskit-aer) (5.9.5)\n",
            "Requirement already satisfied: python-dateutil>=2.8.0 in /usr/local/lib/python3.12/dist-packages (from qiskit-aer) (2.9.0.post0)\n",
            "Requirement already satisfied: six>=1.5 in /usr/local/lib/python3.12/dist-packages (from python-dateutil>=2.8.0->qiskit-aer) (1.17.0)\n",
            "Downloading qiskit-2.2.1-cp39-abi3-manylinux2014_x86_64.manylinux_2_17_x86_64.whl (8.0 MB)\n",
            "\u001b[2K   \u001b[90m━━━━━━━━━━━━━━━━━━━━━━━━━━━━━━━━━━━━━━━━\u001b[0m \u001b[32m8.0/8.0 MB\u001b[0m \u001b[31m64.9 MB/s\u001b[0m eta \u001b[36m0:00:00\u001b[0m\n",
            "\u001b[?25hDownloading qiskit_aer-0.17.2-cp312-cp312-manylinux_2_17_x86_64.manylinux2014_x86_64.whl (12.4 MB)\n",
            "\u001b[2K   \u001b[90m━━━━━━━━━━━━━━━━━━━━━━━━━━━━━━━━━━━━━━━━\u001b[0m \u001b[32m12.4/12.4 MB\u001b[0m \u001b[31m72.2 MB/s\u001b[0m eta \u001b[36m0:00:00\u001b[0m\n",
            "\u001b[?25hDownloading rustworkx-0.17.1-cp39-abi3-manylinux_2_17_x86_64.manylinux2014_x86_64.whl (2.2 MB)\n",
            "\u001b[2K   \u001b[90m━━━━━━━━━━━━━━━━━━━━━━━━━━━━━━━━━━━━━━━━\u001b[0m \u001b[32m2.2/2.2 MB\u001b[0m \u001b[31m47.3 MB/s\u001b[0m eta \u001b[36m0:00:00\u001b[0m\n",
            "\u001b[?25hDownloading stevedore-5.5.0-py3-none-any.whl (49 kB)\n",
            "\u001b[2K   \u001b[90m━━━━━━━━━━━━━━━━━━━━━━━━━━━━━━━━━━━━━━━━\u001b[0m \u001b[32m49.5/49.5 kB\u001b[0m \u001b[31m2.2 MB/s\u001b[0m eta \u001b[36m0:00:00\u001b[0m\n",
            "\u001b[?25hInstalling collected packages: stevedore, rustworkx, qiskit, qiskit-aer\n",
            "Successfully installed qiskit-2.2.1 qiskit-aer-0.17.2 rustworkx-0.17.1 stevedore-5.5.0\n"
          ]
        }
      ]
    },
    {
      "cell_type": "code",
      "source": [
        "\n",
        "from qiskit import QuantumCircuit, transpile\n",
        "from qiskit_aer import AerSimulator\n",
        "from qiskit.quantum_info import Statevector\n",
        "import numpy as np\n",
        "\n",
        "sim = AerSimulator()\n",
        "\n",
        "qc_h_then_x = QuantumCircuit(1,1)\n",
        "qc_h_then_x.h(0)\n",
        "qc_h_then_x.x(0)\n",
        "qc_h_then_x.measure(0,0)\n",
        "\n",
        "qc_x_then_h = QuantumCircuit(1,1)\n",
        "qc_x_then_h.x(0)\n",
        "qc_x_then_h.h(0)\n",
        "qc_x_then_h.measure(0,0)\n",
        "\n",
        "def get_counts(qc, shots=2048):\n",
        "    qc_t = transpile(qc, sim)\n",
        "    job = sim.run(qc_t, shots=shots)\n",
        "    result = job.result()\n",
        "    return result.get_counts()\n",
        "\n",
        "print(\"Counts H then X:\", get_counts(qc_h_then_x))\n",
        "print(\"Counts X then H:\", get_counts(qc_x_then_h))\n",
        "\n",
        "qc_sv_h_then_x = QuantumCircuit(1)\n",
        "qc_sv_h_then_x.h(0)\n",
        "qc_sv_h_then_x.x(0)\n",
        "sv_h_then_x = Statevector.from_instruction(qc_sv_h_then_x)\n",
        "\n",
        "qc_sv_x_then_h = QuantumCircuit(1)\n",
        "qc_sv_x_then_h.x(0)\n",
        "qc_sv_x_then_h.h(0)\n",
        "sv_x_then_h = Statevector.from_instruction(qc_sv_x_then_h)\n",
        "\n",
        "print(\"Statevector H then X:\", sv_h_then_x)\n",
        "print(\"Statevector X then H:\", sv_x_then_h)"
      ],
      "metadata": {
        "colab": {
          "base_uri": "https://localhost:8080/"
        },
        "id": "rhXBezBSYd6k",
        "outputId": "ba255d39-f2a2-4189-96e7-e527e2319c23"
      },
      "execution_count": 2,
      "outputs": [
        {
          "output_type": "stream",
          "name": "stdout",
          "text": [
            "Counts H then X: {'1': 1052, '0': 996}\n",
            "Counts X then H: {'1': 1015, '0': 1033}\n",
            "Statevector H then X: Statevector([0.70710678+0.j, 0.70710678+0.j],\n",
            "            dims=(2,))\n",
            "Statevector X then H: Statevector([ 0.70710678+0.j, -0.70710678+0.j],\n",
            "            dims=(2,))\n"
          ]
        }
      ]
    },
    {
      "cell_type": "markdown",
      "source": [
        "quantum gates generally do not commute — applying A then B is not the same as B then A. Here the non-commutation shows up as a different global/relative phase in the statevector; but because measurement probabilities in the Z-basis depend on amplitude magnitudes squared, that phase difference may not affect those probabilities."
      ],
      "metadata": {
        "id": "136Y85r8fro1"
      }
    },
    {
      "cell_type": "code",
      "source": [
        "from qiskit import QuantumCircuit, transpile\n",
        "from qiskit_aer import AerSimulator\n",
        "import numpy as np\n",
        "\n",
        "sim = AerSimulator()\n",
        "\n",
        "thetas = [np.pi/4, np.pi/2, np.pi]\n",
        "for theta in thetas:\n",
        "    qc = QuantumCircuit(1,1)\n",
        "    qc.h(0)\n",
        "    qc.rz(theta, 0)\n",
        "    qc.measure(0,0)\n",
        "    counts = sim.run(transpile(qc, sim), shots=2048).result().get_counts()\n",
        "    print(f\"theta = {theta:.6f}  counts = {counts}\")\n"
      ],
      "metadata": {
        "id": "yLWCXEkWftot",
        "outputId": "1579179b-7e8d-40ea-fb81-7e1041215e42",
        "colab": {
          "base_uri": "https://localhost:8080/"
        }
      },
      "execution_count": 3,
      "outputs": [
        {
          "output_type": "stream",
          "name": "stdout",
          "text": [
            "theta = 0.785398  counts = {'0': 1030, '1': 1018}\n",
            "theta = 1.570796  counts = {'0': 1029, '1': 1019}\n",
            "theta = 3.141593  counts = {'1': 1012, '0': 1036}\n"
          ]
        }
      ]
    },
    {
      "cell_type": "markdown",
      "source": [
        "For all three angles (π/4, π/2, and π), the measurement counts are almost the same — about 50% |0⟩ and 50% |1⟩.\n",
        "\n",
        "This happens because the RZ(θ) gate only changes the phase of the qubit, not the probability of getting 0 or 1.\n",
        "So, even when θ changes, the measurement results stay nearly equal."
      ],
      "metadata": {
        "id": "ol9xPkBjf93f"
      }
    },
    {
      "cell_type": "code",
      "source": [
        "from qiskit import QuantumCircuit, transpile\n",
        "from qiskit_aer import AerSimulator\n",
        "import numpy as np\n",
        "\n",
        "sim = AerSimulator()\n",
        "theta = np.pi/2\n",
        "\n",
        "qc_with_h = QuantumCircuit(1,1)\n",
        "qc_with_h.h(0)\n",
        "qc_with_h.rz(theta, 0)\n",
        "qc_with_h.measure(0,0)\n",
        "\n",
        "qc_no_h = QuantumCircuit(1,1)\n",
        "qc_no_h.rz(theta, 0)\n",
        "qc_no_h.measure(0,0)\n",
        "\n",
        "counts_with_h = sim.run(transpile(qc_with_h, sim), shots=2048).result().get_counts()\n",
        "counts_no_h = sim.run(transpile(qc_no_h, sim), shots=2048).result().get_counts()\n",
        "\n",
        "print(\"H then RZ:\", counts_with_h)\n",
        "print(\"RZ only:\", counts_no_h)\n"
      ],
      "metadata": {
        "id": "8GnLBUYbgT9q",
        "outputId": "b0820652-f1a7-4751-e588-32fab8f3549a",
        "colab": {
          "base_uri": "https://localhost:8080/"
        }
      },
      "execution_count": 4,
      "outputs": [
        {
          "output_type": "stream",
          "name": "stdout",
          "text": [
            "H then RZ: {'0': 1042, '1': 1006}\n",
            "RZ only: {'0': 2048}\n"
          ]
        }
      ]
    }
  ],
  "metadata": {
    "colab": {
      "toc_visible": true,
      "provenance": []
    },
    "kernelspec": {
      "display_name": "Python 3",
      "name": "python3"
    }
  },
  "nbformat": 4,
  "nbformat_minor": 0
}